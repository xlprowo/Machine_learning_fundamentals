{
  "nbformat": 4,
  "nbformat_minor": 0,
  "metadata": {
    "colab": {
      "provenance": [],
      "gpuType": "T4"
    },
    "kernelspec": {
      "name": "python3",
      "display_name": "Python 3"
    },
    "language_info": {
      "name": "python"
    },
    "accelerator": "GPU"
  },
  "cells": [
    {
      "cell_type": "markdown",
      "source": [
        "## Fashion MINST classification with Pytorch.\n",
        "\n",
        "#### Objective:\n",
        "\n",
        "The following notebook consist of a convolutional neural network to classify the images of the Fashion MINST dataset. The purpose of this exercise is to get used to and explore Pytorch's ecosystem for Machine learning."
      ],
      "metadata": {
        "id": "V6wUCAC2lqib"
      }
    },
    {
      "cell_type": "markdown",
      "source": [
        "#### Import dataset and necessary libraries.\n",
        "\n",
        "The models used belong to the Pytorch ecosystem, however numpy and the dataset from keras do not belong to Pytorch but are used as part of the exercise.\n",
        "\n",
        "For the case of the dataset, it could have been imported from Pytorch but the dataset from  the keras library was used in order to practice preprocessing and data adjustments from other sources and avoid using a dataset directly provided by pytorch."
      ],
      "metadata": {
        "id": "4yoF8KH1rO-N"
      }
    },
    {
      "cell_type": "code",
      "source": [
        "import torch\n",
        "import torch.nn as nn\n",
        "import torch.optim as optim\n",
        "import torchvision\n",
        "from torch.utils.data import Dataset\n",
        "import torchvision.transforms as transforms\n",
        "from torchvision.transforms import ToTensor\n",
        "from torch.utils.data import DataLoader\n",
        "from tensorflow.keras import datasets as dt\n",
        "import numpy as np"
      ],
      "metadata": {
        "id": "3XXchMq1yBcJ"
      },
      "execution_count": null,
      "outputs": []
    },
    {
      "cell_type": "code",
      "source": [
        "(x_train, y_train), (x_test, y_test)= dt.fashion_mnist.load_data()"
      ],
      "metadata": {
        "id": "Bbn9U3YcyTHu",
        "colab": {
          "base_uri": "https://localhost:8080/"
        },
        "outputId": "96e0d288-d59f-44e2-afce-748117fd51bc"
      },
      "execution_count": null,
      "outputs": [
        {
          "output_type": "stream",
          "name": "stdout",
          "text": [
            "Downloading data from https://storage.googleapis.com/tensorflow/tf-keras-datasets/train-labels-idx1-ubyte.gz\n",
            "29515/29515 [==============================] - 0s 0us/step\n",
            "Downloading data from https://storage.googleapis.com/tensorflow/tf-keras-datasets/train-images-idx3-ubyte.gz\n",
            "26421880/26421880 [==============================] - 0s 0us/step\n",
            "Downloading data from https://storage.googleapis.com/tensorflow/tf-keras-datasets/t10k-labels-idx1-ubyte.gz\n",
            "5148/5148 [==============================] - 0s 0us/step\n",
            "Downloading data from https://storage.googleapis.com/tensorflow/tf-keras-datasets/t10k-images-idx3-ubyte.gz\n",
            "4422102/4422102 [==============================] - 0s 0us/step\n"
          ]
        }
      ]
    },
    {
      "cell_type": "markdown",
      "source": [
        "Once the dataset is downloaded a summary of its shape is displayed to confirm it is divided in training and test set."
      ],
      "metadata": {
        "id": "woo8RCeHxytj"
      }
    },
    {
      "cell_type": "code",
      "source": [
        "print(np.shape(x_train))\n",
        "print(np.shape(y_train))\n",
        "print(np.shape(x_test))\n",
        "print(np.shape(y_test))"
      ],
      "metadata": {
        "colab": {
          "base_uri": "https://localhost:8080/"
        },
        "id": "aSR_WlbyyaCb",
        "outputId": "f50a263b-36f1-47ca-d27d-0336002cd985"
      },
      "execution_count": null,
      "outputs": [
        {
          "output_type": "stream",
          "name": "stdout",
          "text": [
            "(60000, 28, 28)\n",
            "(60000,)\n",
            "(10000, 28, 28)\n",
            "(10000,)\n"
          ]
        }
      ]
    },
    {
      "cell_type": "markdown",
      "source": [
        "A dictionary object is created with the names of the clothes and their numerical reference to understand the outputs."
      ],
      "metadata": {
        "id": "k083M8CTUj3w"
      }
    },
    {
      "cell_type": "code",
      "source": [
        "mnist_classes= {0:\"T-shirt/top\",\n",
        "                1:\"Trouser\",\n",
        "                2:\"Pullover\",\n",
        "                3:\"Dress\",\n",
        "                4:\"Coat\",\n",
        "                5:\"Sandal\",\n",
        "                6:\"Shirt\",\n",
        "                7:\"Sneaker\",\n",
        "                8:\"Bag\",\n",
        "                9:\"Ankle boot\"}"
      ],
      "metadata": {
        "id": "aCWbLq9_yjpj"
      },
      "execution_count": null,
      "outputs": []
    },
    {
      "cell_type": "markdown",
      "source": [
        "## Preparing the dataset.\n",
        "\n",
        "In order to have a useful dataset for Pytorch a Dataset class is implemented with three necessary functions: __init__, __len__, and __getitem__. The purpose of this class is to create the dataset object that returns the sample and label and perform the necessary transformations.\n",
        "\n",
        "The data object will only apply one transformation, it will change the data of the samples to a tensor. It's important to remember that Pytorch works with tensors."
      ],
      "metadata": {
        "id": "rOZSp0UoXEy4"
      }
    },
    {
      "cell_type": "code",
      "source": [
        "class dataset1(Dataset):\n",
        "    def __init__(self, labels, X, transform=None):\n",
        "        self.y= labels\n",
        "        self.X = X\n",
        "        self.transform = transform\n",
        "\n",
        "\n",
        "\n",
        "    def __len__(self):\n",
        "        return len(self.X)\n",
        "\n",
        "    def __getitem__(self, idx):\n",
        "        image = self.X[idx]\n",
        "        label = self.y[idx]\n",
        "        if self.transform:\n",
        "            image = self.transform(image)\n",
        "\n",
        "        label = torch.tensor(label)\n",
        "\n",
        "        return image, label"
      ],
      "metadata": {
        "id": "xgWibnnEXGaI"
      },
      "execution_count": null,
      "outputs": []
    },
    {
      "cell_type": "markdown",
      "source": [
        "The dataset object is created using the raw data that was downloaded from Keras and divided in three; one part as a training set, the second part as an evaluation dataset and finally a third division to test the model."
      ],
      "metadata": {
        "id": "OXMdMUTkJWLZ"
      }
    },
    {
      "cell_type": "code",
      "source": [
        "data_training = dataset1(labels=y_train, X=x_train, transform= transforms.ToTensor())\n",
        "data_eval = dataset1(labels=y_test[:3000], X=x_test[:3000], transform=transforms.ToTensor())\n",
        "data_testing =dataset1(labels=y_test[3000:], X=x_test[3000:], transform=transforms.ToTensor())"
      ],
      "metadata": {
        "id": "gQ3G2SMXu7Pm"
      },
      "execution_count": null,
      "outputs": []
    },
    {
      "cell_type": "markdown",
      "source": [
        "#### An example of the first sample converted to a tensor.\n",
        "\n",
        "It is interesting to see that the transformation not only turns the image into a tensor but it also \"normalizes\" the inputs between 0 and 1. This shows the capabilities of pytorch for handling, preprocessing and transforming data."
      ],
      "metadata": {
        "id": "jwFM2QKNNZu-"
      }
    },
    {
      "cell_type": "code",
      "source": [
        "data_training[0]"
      ],
      "metadata": {
        "id": "_0XoEJ3vkprZ",
        "colab": {
          "base_uri": "https://localhost:8080/"
        },
        "outputId": "a5e168e6-8408-4002-a4bf-41f757479def"
      },
      "execution_count": null,
      "outputs": [
        {
          "output_type": "stream",
          "name": "stderr",
          "text": [
            "/usr/local/lib/python3.10/dist-packages/torchvision/transforms/functional.py:152: UserWarning: The given NumPy array is not writable, and PyTorch does not support non-writable tensors. This means writing to this tensor will result in undefined behavior. You may want to copy the array to protect its data or make it writable before converting it to a tensor. This type of warning will be suppressed for the rest of this program. (Triggered internally at ../torch/csrc/utils/tensor_numpy.cpp:206.)\n",
            "  img = torch.from_numpy(pic.transpose((2, 0, 1))).contiguous()\n"
          ]
        },
        {
          "output_type": "execute_result",
          "data": {
            "text/plain": [
              "(tensor([[[0.0000, 0.0000, 0.0000, 0.0000, 0.0000, 0.0000, 0.0000, 0.0000,\n",
              "           0.0000, 0.0000, 0.0000, 0.0000, 0.0000, 0.0000, 0.0000, 0.0000,\n",
              "           0.0000, 0.0000, 0.0000, 0.0000, 0.0000, 0.0000, 0.0000, 0.0000,\n",
              "           0.0000, 0.0000, 0.0000, 0.0000],\n",
              "          [0.0000, 0.0000, 0.0000, 0.0000, 0.0000, 0.0000, 0.0000, 0.0000,\n",
              "           0.0000, 0.0000, 0.0000, 0.0000, 0.0000, 0.0000, 0.0000, 0.0000,\n",
              "           0.0000, 0.0000, 0.0000, 0.0000, 0.0000, 0.0000, 0.0000, 0.0000,\n",
              "           0.0000, 0.0000, 0.0000, 0.0000],\n",
              "          [0.0000, 0.0000, 0.0000, 0.0000, 0.0000, 0.0000, 0.0000, 0.0000,\n",
              "           0.0000, 0.0000, 0.0000, 0.0000, 0.0000, 0.0000, 0.0000, 0.0000,\n",
              "           0.0000, 0.0000, 0.0000, 0.0000, 0.0000, 0.0000, 0.0000, 0.0000,\n",
              "           0.0000, 0.0000, 0.0000, 0.0000],\n",
              "          [0.0000, 0.0000, 0.0000, 0.0000, 0.0000, 0.0000, 0.0000, 0.0000,\n",
              "           0.0000, 0.0000, 0.0000, 0.0000, 0.0039, 0.0000, 0.0000, 0.0510,\n",
              "           0.2863, 0.0000, 0.0000, 0.0039, 0.0157, 0.0000, 0.0000, 0.0000,\n",
              "           0.0000, 0.0039, 0.0039, 0.0000],\n",
              "          [0.0000, 0.0000, 0.0000, 0.0000, 0.0000, 0.0000, 0.0000, 0.0000,\n",
              "           0.0000, 0.0000, 0.0000, 0.0000, 0.0118, 0.0000, 0.1412, 0.5333,\n",
              "           0.4980, 0.2431, 0.2118, 0.0000, 0.0000, 0.0000, 0.0039, 0.0118,\n",
              "           0.0157, 0.0000, 0.0000, 0.0118],\n",
              "          [0.0000, 0.0000, 0.0000, 0.0000, 0.0000, 0.0000, 0.0000, 0.0000,\n",
              "           0.0000, 0.0000, 0.0000, 0.0000, 0.0235, 0.0000, 0.4000, 0.8000,\n",
              "           0.6902, 0.5255, 0.5647, 0.4824, 0.0902, 0.0000, 0.0000, 0.0000,\n",
              "           0.0000, 0.0471, 0.0392, 0.0000],\n",
              "          [0.0000, 0.0000, 0.0000, 0.0000, 0.0000, 0.0000, 0.0000, 0.0000,\n",
              "           0.0000, 0.0000, 0.0000, 0.0000, 0.0000, 0.0000, 0.6078, 0.9255,\n",
              "           0.8118, 0.6980, 0.4196, 0.6118, 0.6314, 0.4275, 0.2510, 0.0902,\n",
              "           0.3020, 0.5098, 0.2824, 0.0588],\n",
              "          [0.0000, 0.0000, 0.0000, 0.0000, 0.0000, 0.0000, 0.0000, 0.0000,\n",
              "           0.0000, 0.0000, 0.0000, 0.0039, 0.0000, 0.2706, 0.8118, 0.8745,\n",
              "           0.8549, 0.8471, 0.8471, 0.6392, 0.4980, 0.4745, 0.4784, 0.5725,\n",
              "           0.5529, 0.3451, 0.6745, 0.2588],\n",
              "          [0.0000, 0.0000, 0.0000, 0.0000, 0.0000, 0.0000, 0.0000, 0.0000,\n",
              "           0.0000, 0.0039, 0.0039, 0.0039, 0.0000, 0.7843, 0.9098, 0.9098,\n",
              "           0.9137, 0.8980, 0.8745, 0.8745, 0.8431, 0.8353, 0.6431, 0.4980,\n",
              "           0.4824, 0.7686, 0.8980, 0.0000],\n",
              "          [0.0000, 0.0000, 0.0000, 0.0000, 0.0000, 0.0000, 0.0000, 0.0000,\n",
              "           0.0000, 0.0000, 0.0000, 0.0000, 0.0000, 0.7176, 0.8824, 0.8471,\n",
              "           0.8745, 0.8941, 0.9216, 0.8902, 0.8784, 0.8706, 0.8784, 0.8667,\n",
              "           0.8745, 0.9608, 0.6784, 0.0000],\n",
              "          [0.0000, 0.0000, 0.0000, 0.0000, 0.0000, 0.0000, 0.0000, 0.0000,\n",
              "           0.0000, 0.0000, 0.0000, 0.0000, 0.0000, 0.7569, 0.8941, 0.8549,\n",
              "           0.8353, 0.7765, 0.7059, 0.8314, 0.8235, 0.8275, 0.8353, 0.8745,\n",
              "           0.8627, 0.9529, 0.7922, 0.0000],\n",
              "          [0.0000, 0.0000, 0.0000, 0.0000, 0.0000, 0.0000, 0.0000, 0.0000,\n",
              "           0.0000, 0.0039, 0.0118, 0.0000, 0.0471, 0.8588, 0.8627, 0.8314,\n",
              "           0.8549, 0.7529, 0.6627, 0.8902, 0.8157, 0.8549, 0.8784, 0.8314,\n",
              "           0.8863, 0.7725, 0.8196, 0.2039],\n",
              "          [0.0000, 0.0000, 0.0000, 0.0000, 0.0000, 0.0000, 0.0000, 0.0000,\n",
              "           0.0000, 0.0000, 0.0235, 0.0000, 0.3882, 0.9569, 0.8706, 0.8627,\n",
              "           0.8549, 0.7961, 0.7765, 0.8667, 0.8431, 0.8353, 0.8706, 0.8627,\n",
              "           0.9608, 0.4667, 0.6549, 0.2196],\n",
              "          [0.0000, 0.0000, 0.0000, 0.0000, 0.0000, 0.0000, 0.0000, 0.0000,\n",
              "           0.0000, 0.0157, 0.0000, 0.0000, 0.2157, 0.9255, 0.8941, 0.9020,\n",
              "           0.8941, 0.9412, 0.9098, 0.8353, 0.8549, 0.8745, 0.9176, 0.8510,\n",
              "           0.8510, 0.8196, 0.3608, 0.0000],\n",
              "          [0.0000, 0.0000, 0.0039, 0.0157, 0.0235, 0.0275, 0.0078, 0.0000,\n",
              "           0.0000, 0.0000, 0.0000, 0.0000, 0.9294, 0.8863, 0.8510, 0.8745,\n",
              "           0.8706, 0.8588, 0.8706, 0.8667, 0.8471, 0.8745, 0.8980, 0.8431,\n",
              "           0.8549, 1.0000, 0.3020, 0.0000],\n",
              "          [0.0000, 0.0118, 0.0000, 0.0000, 0.0000, 0.0000, 0.0000, 0.0000,\n",
              "           0.0000, 0.2431, 0.5686, 0.8000, 0.8941, 0.8118, 0.8353, 0.8667,\n",
              "           0.8549, 0.8157, 0.8275, 0.8549, 0.8784, 0.8745, 0.8588, 0.8431,\n",
              "           0.8784, 0.9569, 0.6235, 0.0000],\n",
              "          [0.0000, 0.0000, 0.0000, 0.0000, 0.0706, 0.1725, 0.3216, 0.4196,\n",
              "           0.7412, 0.8941, 0.8627, 0.8706, 0.8510, 0.8863, 0.7843, 0.8039,\n",
              "           0.8275, 0.9020, 0.8784, 0.9176, 0.6902, 0.7373, 0.9804, 0.9725,\n",
              "           0.9137, 0.9333, 0.8431, 0.0000],\n",
              "          [0.0000, 0.2235, 0.7333, 0.8157, 0.8784, 0.8667, 0.8784, 0.8157,\n",
              "           0.8000, 0.8392, 0.8157, 0.8196, 0.7843, 0.6235, 0.9608, 0.7569,\n",
              "           0.8078, 0.8745, 1.0000, 1.0000, 0.8667, 0.9176, 0.8667, 0.8275,\n",
              "           0.8627, 0.9098, 0.9647, 0.0000],\n",
              "          [0.0118, 0.7922, 0.8941, 0.8784, 0.8667, 0.8275, 0.8275, 0.8392,\n",
              "           0.8039, 0.8039, 0.8039, 0.8627, 0.9412, 0.3137, 0.5882, 1.0000,\n",
              "           0.8980, 0.8667, 0.7373, 0.6039, 0.7490, 0.8235, 0.8000, 0.8196,\n",
              "           0.8706, 0.8941, 0.8824, 0.0000],\n",
              "          [0.3843, 0.9137, 0.7765, 0.8235, 0.8706, 0.8980, 0.8980, 0.9176,\n",
              "           0.9765, 0.8627, 0.7608, 0.8431, 0.8510, 0.9451, 0.2549, 0.2863,\n",
              "           0.4157, 0.4588, 0.6588, 0.8588, 0.8667, 0.8431, 0.8510, 0.8745,\n",
              "           0.8745, 0.8784, 0.8980, 0.1137],\n",
              "          [0.2941, 0.8000, 0.8314, 0.8000, 0.7569, 0.8039, 0.8275, 0.8824,\n",
              "           0.8471, 0.7255, 0.7725, 0.8078, 0.7765, 0.8353, 0.9412, 0.7647,\n",
              "           0.8902, 0.9608, 0.9373, 0.8745, 0.8549, 0.8314, 0.8196, 0.8706,\n",
              "           0.8627, 0.8667, 0.9020, 0.2627],\n",
              "          [0.1882, 0.7961, 0.7176, 0.7608, 0.8353, 0.7725, 0.7255, 0.7451,\n",
              "           0.7608, 0.7529, 0.7922, 0.8392, 0.8588, 0.8667, 0.8627, 0.9255,\n",
              "           0.8824, 0.8471, 0.7804, 0.8078, 0.7294, 0.7098, 0.6941, 0.6745,\n",
              "           0.7098, 0.8039, 0.8078, 0.4510],\n",
              "          [0.0000, 0.4784, 0.8588, 0.7569, 0.7020, 0.6706, 0.7176, 0.7686,\n",
              "           0.8000, 0.8235, 0.8353, 0.8118, 0.8275, 0.8235, 0.7843, 0.7686,\n",
              "           0.7608, 0.7490, 0.7647, 0.7490, 0.7765, 0.7529, 0.6902, 0.6118,\n",
              "           0.6549, 0.6941, 0.8235, 0.3608],\n",
              "          [0.0000, 0.0000, 0.2902, 0.7412, 0.8314, 0.7490, 0.6863, 0.6745,\n",
              "           0.6863, 0.7098, 0.7255, 0.7373, 0.7412, 0.7373, 0.7569, 0.7765,\n",
              "           0.8000, 0.8196, 0.8235, 0.8235, 0.8275, 0.7373, 0.7373, 0.7608,\n",
              "           0.7529, 0.8471, 0.6667, 0.0000],\n",
              "          [0.0078, 0.0000, 0.0000, 0.0000, 0.2588, 0.7843, 0.8706, 0.9294,\n",
              "           0.9373, 0.9490, 0.9647, 0.9529, 0.9569, 0.8667, 0.8627, 0.7569,\n",
              "           0.7490, 0.7020, 0.7137, 0.7137, 0.7098, 0.6902, 0.6510, 0.6588,\n",
              "           0.3882, 0.2275, 0.0000, 0.0000],\n",
              "          [0.0000, 0.0000, 0.0000, 0.0000, 0.0000, 0.0000, 0.0000, 0.1569,\n",
              "           0.2392, 0.1725, 0.2824, 0.1608, 0.1373, 0.0000, 0.0000, 0.0000,\n",
              "           0.0000, 0.0000, 0.0000, 0.0000, 0.0000, 0.0000, 0.0000, 0.0000,\n",
              "           0.0000, 0.0000, 0.0000, 0.0000],\n",
              "          [0.0000, 0.0000, 0.0000, 0.0000, 0.0000, 0.0000, 0.0000, 0.0000,\n",
              "           0.0000, 0.0000, 0.0000, 0.0000, 0.0000, 0.0000, 0.0000, 0.0000,\n",
              "           0.0000, 0.0000, 0.0000, 0.0000, 0.0000, 0.0000, 0.0000, 0.0000,\n",
              "           0.0000, 0.0000, 0.0000, 0.0000],\n",
              "          [0.0000, 0.0000, 0.0000, 0.0000, 0.0000, 0.0000, 0.0000, 0.0000,\n",
              "           0.0000, 0.0000, 0.0000, 0.0000, 0.0000, 0.0000, 0.0000, 0.0000,\n",
              "           0.0000, 0.0000, 0.0000, 0.0000, 0.0000, 0.0000, 0.0000, 0.0000,\n",
              "           0.0000, 0.0000, 0.0000, 0.0000]]]),\n",
              " tensor(9, dtype=torch.uint8))"
            ]
          },
          "metadata": {},
          "execution_count": 7
        }
      ]
    },
    {
      "cell_type": "markdown",
      "source": [
        "### Dataloader\n",
        "The dataloader helps with the retrival of the data; it shuffles, divides in batches etc. all of the data.\n",
        "\n",
        "During training the dataloader, \"loads\" the data to the model as needed."
      ],
      "metadata": {
        "id": "M3Tj6PO0uQnT"
      }
    },
    {
      "cell_type": "code",
      "source": [
        "train_dataloader = DataLoader(data_training, batch_size=32, shuffle=True)\n",
        "eval_dataloader = DataLoader(data_eval, batch_size=32, shuffle=True)\n",
        "test_dataloader = DataLoader(data_testing, batch_size=32, shuffle=True)"
      ],
      "metadata": {
        "id": "EImVWUh5uWzb"
      },
      "execution_count": null,
      "outputs": []
    },
    {
      "cell_type": "markdown",
      "source": [
        "### Building the model.\n",
        "\n",
        "For the model it is necessary to create another class that inherits the attributes and methods of nn.Module; all of this with the purpose of having flexibility when building the model.\n",
        "\n",
        "Another aspect that is important in the model class definition is the \"forward\" function, which allows the model to perform the computations through the model."
      ],
      "metadata": {
        "id": "MJa8bDsMXdWY"
      }
    },
    {
      "cell_type": "code",
      "source": [
        "class FashionModel(nn.Module):\n",
        "    def __init__(self):\n",
        "        super().__init__()\n",
        "        self.convolution1 = nn.Conv2d(1, 16, kernel_size=(3,3), stride=1, padding=\"same\")\n",
        "        self.activation1 = nn.ReLU()\n",
        "        self.batchn1  = nn.BatchNorm2d(16)\n",
        "\n",
        "        self.convolution2 = nn.Conv2d(16, 32, kernel_size=(3,3), stride=1, padding=\"same\")\n",
        "        self.activation2 = nn.ReLU()\n",
        "        self.maxpool2 = nn.MaxPool2d(kernel_size=(2, 2))\n",
        "        self.batchn2  = nn.BatchNorm2d(32)\n",
        "\n",
        "        self.convolution3 = nn.Conv2d(32, 32, kernel_size=(3,3), stride=1, padding=\"same\")\n",
        "        self.activation3 = nn.ReLU()\n",
        "        self.maxpool3 = nn.MaxPool2d(kernel_size=(2, 2))\n",
        "        self.batchn3  = nn.BatchNorm2d(32)\n",
        "\n",
        "        self.flatten4 = nn.Flatten()\n",
        "        self.linear4 = nn.Linear(1568,256)\n",
        "        self.activation4 = nn.ReLU()\n",
        "        self.dropout4 = nn.Dropout(0.5)\n",
        "\n",
        "        self.linearfinal = nn.Linear(256, 10)\n",
        "\n",
        "\n",
        "    def forward(self, x):\n",
        "\n",
        "        x = self.activation1(self.convolution1(x))\n",
        "        x = self.activation2(self.convolution2(x))\n",
        "        x = self.maxpool2(x)\n",
        "        x = self.activation3(self.convolution3(x))\n",
        "        x = self.maxpool3(x)\n",
        "        x = self.flatten4(x)\n",
        "        x = self.activation4(self.linear4(x))\n",
        "        x = self.dropout4(x)\n",
        "\n",
        "        x = self.linearfinal(x)\n",
        "        return x"
      ],
      "metadata": {
        "id": "8ERccQ27Xfqz"
      },
      "execution_count": null,
      "outputs": []
    },
    {
      "cell_type": "markdown",
      "source": [
        "### Training\n",
        "\n",
        "To train the model a \"for\" loop is applied according to the desired number of epochs that the model will be trained.\n",
        "\n",
        "After some epochs the model will stop improving; it is important to keep in mind the simplicity of the exercise presented here. There are more ways to improve the accuracy and performance of the model. For example, more transformations, normalization of the tensors, a different setting of the model etc. Despite of this, the model still reaches an accuracy of over 90% with the validation dataset."
      ],
      "metadata": {
        "id": "LJ1RAINlf90F"
      }
    },
    {
      "cell_type": "code",
      "source": [
        "model = FashionModel()\n",
        "loss = nn.CrossEntropyLoss()\n",
        "optimizer = optim.Adam(model.parameters(), lr=0.001)\n",
        "\n",
        "epochs = 15\n",
        "for epoch in range(1, epochs+1):\n",
        "    for input, label in train_dataloader:\n",
        "        # forward, backward, and then weight update\n",
        "        y_pred = model(input)\n",
        "        loss1 = loss(y_pred, label)\n",
        "        optimizer.zero_grad()\n",
        "        loss1.backward()\n",
        "        optimizer.step()\n",
        "\n",
        "    accuracy = 0\n",
        "    count = 0\n",
        "    for inputs, labels in eval_dataloader:\n",
        "        y_pred = model(inputs)\n",
        "        accuracy += (torch.argmax(y_pred, 1) == labels).float().sum()\n",
        "        count += len(labels)\n",
        "    accuracy /= count\n",
        "    print(\"Epoch's %d accuracy: %.2f%%\" % (epoch, accuracy*100))"
      ],
      "metadata": {
        "colab": {
          "base_uri": "https://localhost:8080/"
        },
        "id": "CvfxTUVAf_tl",
        "outputId": "c0b6ff07-b65c-47d4-8248-2c3ef6945dbe"
      },
      "execution_count": null,
      "outputs": [
        {
          "output_type": "stream",
          "name": "stdout",
          "text": [
            "Epoch's 1 accuracy: 86.60%\n",
            "Epoch's 2 accuracy: 88.23%\n",
            "Epoch's 3 accuracy: 89.17%\n",
            "Epoch's 4 accuracy: 89.93%\n",
            "Epoch's 5 accuracy: 89.93%\n",
            "Epoch's 6 accuracy: 90.67%\n",
            "Epoch's 7 accuracy: 90.77%\n",
            "Epoch's 8 accuracy: 90.97%\n",
            "Epoch's 9 accuracy: 91.60%\n",
            "Epoch's 10 accuracy: 90.50%\n",
            "Epoch's 11 accuracy: 91.37%\n",
            "Epoch's 12 accuracy: 91.50%\n",
            "Epoch's 13 accuracy: 90.30%\n",
            "Epoch's 14 accuracy: 91.20%\n",
            "Epoch's 15 accuracy: 90.93%\n"
          ]
        }
      ]
    },
    {
      "cell_type": "markdown",
      "source": [
        "For each epoch of training the loop outputs the accuracy of the validation dataset as a reference of how the model is training and improving.\n",
        "\n",
        "It is important to consider that this \"accuracy\" is only a reference of the training performance and the use of the validation set. It is also necessary to make the model deal with unseen data and discover if the model is overfitted or has learned features, patterns or functions that make the right inference and provide high accuracy."
      ],
      "metadata": {
        "id": "a9b-HUhEapNO"
      }
    },
    {
      "cell_type": "markdown",
      "source": [
        "#### Evaluating the model.\n",
        "\n",
        "In Pytorch once the model has finished the training phase, it is ready to be evaluated. For this, a function call is made to change the model  from 'training' to 'inference' (evaluating) mode.\n",
        "\n",
        "This means that certain features are not functioning as they would while training; basically the model stops learning and just makes inferences without affecting the learned parameters."
      ],
      "metadata": {
        "id": "dQELN7eUcLQ0"
      }
    },
    {
      "cell_type": "code",
      "source": [
        "model.eval()"
      ],
      "metadata": {
        "id": "J6Q2XfqZdKqo",
        "colab": {
          "base_uri": "https://localhost:8080/"
        },
        "outputId": "bfb4a5d9-a598-4e61-ea18-492fca615b11"
      },
      "execution_count": null,
      "outputs": [
        {
          "output_type": "execute_result",
          "data": {
            "text/plain": [
              "FashionModel(\n",
              "  (convolution1): Conv2d(1, 16, kernel_size=(3, 3), stride=(1, 1), padding=same)\n",
              "  (activation1): ReLU()\n",
              "  (batchn1): BatchNorm2d(16, eps=1e-05, momentum=0.1, affine=True, track_running_stats=True)\n",
              "  (convolution2): Conv2d(16, 32, kernel_size=(3, 3), stride=(1, 1), padding=same)\n",
              "  (activation2): ReLU()\n",
              "  (maxpool2): MaxPool2d(kernel_size=(2, 2), stride=(2, 2), padding=0, dilation=1, ceil_mode=False)\n",
              "  (batchn2): BatchNorm2d(32, eps=1e-05, momentum=0.1, affine=True, track_running_stats=True)\n",
              "  (convolution3): Conv2d(32, 32, kernel_size=(3, 3), stride=(1, 1), padding=same)\n",
              "  (activation3): ReLU()\n",
              "  (maxpool3): MaxPool2d(kernel_size=(2, 2), stride=(2, 2), padding=0, dilation=1, ceil_mode=False)\n",
              "  (batchn3): BatchNorm2d(32, eps=1e-05, momentum=0.1, affine=True, track_running_stats=True)\n",
              "  (flatten4): Flatten(start_dim=1, end_dim=-1)\n",
              "  (linear4): Linear(in_features=1568, out_features=256, bias=True)\n",
              "  (activation4): ReLU()\n",
              "  (dropout4): Dropout(p=0.5, inplace=False)\n",
              "  (linearfinal): Linear(in_features=256, out_features=10, bias=True)\n",
              ")"
            ]
          },
          "metadata": {},
          "execution_count": 11
        }
      ]
    },
    {
      "cell_type": "markdown",
      "source": [
        "The next code block outputs the shape of a random sample that will be used to infere a result. This is to have a reference of what kind of shape is necessary to work with the model and what to expect as an output."
      ],
      "metadata": {
        "id": "L-RwiN7xCOY-"
      }
    },
    {
      "cell_type": "code",
      "source": [
        "sample= np.random.randint(0, 7000)\n",
        "print(sample)\n",
        "\n",
        "y= data_testing[sample][1]\n",
        "print(y)\n",
        "print(data_testing[sample][0].size())\n",
        "x = data_testing[sample][0]\n",
        "x=torch.unsqueeze(x, 0)\n",
        "print(x.size())\n",
        "\n",
        "with torch.no_grad():\n",
        "    outputs = model(x)\n",
        "    max, max_indices = torch.max(outputs, dim=1)\n",
        "print(max_indices)"
      ],
      "metadata": {
        "colab": {
          "base_uri": "https://localhost:8080/"
        },
        "id": "5tpT9GmLk8wg",
        "outputId": "717e2df9-d040-4116-a441-0b8e55947469"
      },
      "execution_count": null,
      "outputs": [
        {
          "output_type": "stream",
          "name": "stdout",
          "text": [
            "2500\n",
            "tensor(7, dtype=torch.uint8)\n",
            "torch.Size([1, 28, 28])\n",
            "torch.Size([1, 1, 28, 28])\n",
            "tensor([7])\n"
          ]
        }
      ]
    },
    {
      "cell_type": "markdown",
      "source": [
        "#### A small test for 10 samples.\n",
        "\n",
        "Time to test the model with some random samples. The code will output the model's prediction, the actual label and the image of the sample."
      ],
      "metadata": {
        "id": "QiRazRLvDgGE"
      }
    },
    {
      "cell_type": "code",
      "source": [
        "import matplotlib.pyplot as plt\n",
        "imgs=x_test[3000:]\n",
        "\n",
        "with torch.no_grad():\n",
        "    for test in range(1,11):\n",
        "        sample= np.random.randint(0, 7000)\n",
        "        y= data_testing[sample][1]\n",
        "\n",
        "        x = data_testing[sample][0]\n",
        "        x=torch.unsqueeze(x, 0)\n",
        "\n",
        "\n",
        "        outputs = model(x)\n",
        "        max, max_indices = torch.max(outputs, dim=1)\n",
        "        predict = mnist_classes[max_indices.item()]\n",
        "        label = mnist_classes[y.item()]\n",
        "        print(f\"Prediction by the model:{predict} \\nActual label:{label}\" )\n",
        "\n",
        "        #plotting the image\n",
        "        fig = plt.figure(figsize=(1.5, 1.5))\n",
        "\n",
        "\n",
        "        plt.imshow(imgs[sample],cmap=\"Greys\")\n",
        "        plt.grid(False)\n",
        "        plt.axis('off')\n",
        "        plt.show()\n",
        "        print(\"================================\")\n"
      ],
      "metadata": {
        "colab": {
          "base_uri": "https://localhost:8080/",
          "height": 1000
        },
        "outputId": "22ac2f18-b66c-43f9-8c03-f23d6ca6a7b7",
        "id": "0C5GbFB5iIax"
      },
      "execution_count": null,
      "outputs": [
        {
          "output_type": "stream",
          "name": "stdout",
          "text": [
            "Prediction by the model:Sneaker \n",
            "Actual label:Sneaker\n"
          ]
        },
        {
          "output_type": "display_data",
          "data": {
            "text/plain": [
              "<Figure size 150x150 with 1 Axes>"
            ],
            "image/png": "[encoded data removed]"
          },
          "metadata": {}
        },
        {
          "output_type": "stream",
          "name": "stdout",
          "text": [
            "================================\n",
            "Prediction by the model:Sandal \n",
            "Actual label:Sandal\n"
          ]
        },
        {
          "output_type": "display_data",
          "data": {
            "text/plain": [
              "<Figure size 150x150 with 1 Axes>"
            ],
            "image/png": "[encoded data removed]"
          },
          "metadata": {}
        },
        {
          "output_type": "stream",
          "name": "stdout",
          "text": [
            "================================\n",
            "Prediction by the model:Shirt \n",
            "Actual label:Shirt\n"
          ]
        },
        {
          "output_type": "display_data",
          "data": {
            "text/plain": [
              "<Figure size 150x150 with 1 Axes>"
            ],
            "image/png": "[encoded data removed]"
          },
          "metadata": {}
        },
        {
          "output_type": "stream",
          "name": "stdout",
          "text": [
            "================================\n",
            "Prediction by the model:Pullover \n",
            "Actual label:Pullover\n"
          ]
        },
        {
          "output_type": "display_data",
          "data": {
            "text/plain": [
              "<Figure size 150x150 with 1 Axes>"
            ],
            "image/png": "[encoded data removed]"
          },
          "metadata": {}
        },
        {
          "output_type": "stream",
          "name": "stdout",
          "text": [
            "================================\n",
            "Prediction by the model:Pullover \n",
            "Actual label:Pullover\n"
          ]
        },
        {
          "output_type": "display_data",
          "data": {
            "text/plain": [
              "<Figure size 150x150 with 1 Axes>"
            ],
            "image/png": "[encoded data removed]"
          },
          "metadata": {}
        },
        {
          "output_type": "stream",
          "name": "stdout",
          "text": [
            "================================\n",
            "Prediction by the model:Sneaker \n",
            "Actual label:Sneaker\n"
          ]
        },
        {
          "output_type": "display_data",
          "data": {
            "text/plain": [
              "<Figure size 150x150 with 1 Axes>"
            ],
            "image/png": "[encoded data removed]"
          },
          "metadata": {}
        },
        {
          "output_type": "stream",
          "name": "stdout",
          "text": [
            "================================\n",
            "Prediction by the model:Sneaker \n",
            "Actual label:Sneaker\n"
          ]
        },
        {
          "output_type": "display_data",
          "data": {
            "text/plain": [
              "<Figure size 150x150 with 1 Axes>"
            ],
            "image/png": "[encoded data removed]"
          },
          "metadata": {}
        },
        {
          "output_type": "stream",
          "name": "stdout",
          "text": [
            "================================\n",
            "Prediction by the model:Trouser \n",
            "Actual label:Trouser\n"
          ]
        },
        {
          "output_type": "display_data",
          "data": {
            "text/plain": [
              "<Figure size 150x150 with 1 Axes>"
            ],
            "image/png": "[encoded data removed]"
          },
          "metadata": {}
        },
        {
          "output_type": "stream",
          "name": "stdout",
          "text": [
            "================================\n",
            "Prediction by the model:Trouser \n",
            "Actual label:Trouser\n"
          ]
        },
        {
          "output_type": "display_data",
          "data": {
            "text/plain": [
              "<Figure size 150x150 with 1 Axes>"
            ],
            "image/png": "[encoded data removed]"
          },
          "metadata": {}
        },
        {
          "output_type": "stream",
          "name": "stdout",
          "text": [
            "================================\n",
            "Prediction by the model:Trouser \n",
            "Actual label:Trouser\n"
          ]
        },
        {
          "output_type": "display_data",
          "data": {
            "text/plain": [
              "<Figure size 150x150 with 1 Axes>"
            ],
            "image/png": "[encoded data removed]"
          },
          "metadata": {}
        },
        {
          "output_type": "stream",
          "name": "stdout",
          "text": [
            "================================\n"
          ]
        }
      ]
    },
    {
      "cell_type": "markdown",
      "source": [
        "#### Inferring 5000 images to test the model's accuracy.\n",
        "\n",
        "It's necessary to confirm the model's not overfitted and check if it has generalized the parameters well enough to have a constant and useful accuracy. Testing the model with 5000 samples will be a good way to see this."
      ],
      "metadata": {
        "id": "RAwM1k8yEHL6"
      }
    },
    {
      "cell_type": "code",
      "source": [
        "correct_total=0\n",
        "with torch.no_grad():\n",
        "\n",
        "    for test in range(0,5000):\n",
        "        #sample= np.random.randint(0, 7000)\n",
        "        sample= test\n",
        "        y= data_testing[sample][1]\n",
        "\n",
        "        x = data_testing[sample][0]\n",
        "        x=torch.unsqueeze(x, 0)\n",
        "\n",
        "\n",
        "        outputs = model(x)\n",
        "        max, max_indices = torch.max(outputs, dim=1)\n",
        "        predict = mnist_classes[max_indices.item()]\n",
        "        label = mnist_classes[y.item()]\n",
        "        if predict == label:\n",
        "            correct_total += 1\n",
        "\n",
        "\n",
        "\n",
        "test_result = (correct_total/5000) * 100\n",
        "\n",
        "print(f\"Percentege of correct predictions by the model:{test_result}%\")"
      ],
      "metadata": {
        "colab": {
          "base_uri": "https://localhost:8080/"
        },
        "id": "UtlDPhKAkMnY",
        "outputId": "9fadc652-4cd6-4c18-85d7-ff7676dd6945"
      },
      "execution_count": null,
      "outputs": [
        {
          "output_type": "stream",
          "name": "stdout",
          "text": [
            "Percentege of correct predictions by the model:91.8%\n"
          ]
        }
      ]
    },
    {
      "cell_type": "markdown",
      "source": [
        "The accuracy of the model is over 91%, 9 out of 10 samples are correctly inferred. This shows that the model is not overfitted and the parameters work to extract the features and functions that are required to make the inferences.\n",
        "\n",
        "Pytorch and Deep learning in general are powerful tools. Despite the simplicty in the exercise, the results are a glimpse of what can be achieved, improved and created."
      ],
      "metadata": {
        "id": "Yi6MfrGdGUrT"
      }
    }
  ]
}