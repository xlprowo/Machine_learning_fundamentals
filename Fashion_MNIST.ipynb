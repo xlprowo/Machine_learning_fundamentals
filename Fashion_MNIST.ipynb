{
  "cells": [
    {
      "cell_type": "markdown",
      "id": "c324daad",
      "metadata": {
        "id": "c324daad"
      },
      "source": [
        "#  Basic neural network in Keras. Fashion MNIST\n",
        "\n",
        "#### Objective:\n",
        "\n",
        "Model and train a neural network using Keras in order to classify the elements of a dataset correctly."
      ]
    },
    {
      "cell_type": "markdown",
      "id": "241d5cd5",
      "metadata": {
        "id": "241d5cd5"
      },
      "source": [
        "#### Install dependencies."
      ]
    },
    {
      "cell_type": "code",
      "execution_count": null,
      "id": "459388cb",
      "metadata": {
        "id": "459388cb"
      },
      "outputs": [],
      "source": [
        "import numpy as np\n",
        "import tensorflow as tf\n",
        "from tensorflow import keras\n",
        "from matplotlib import pyplot as plt"
      ]
    },
    {
      "cell_type": "markdown",
      "id": "9e7a2b4b",
      "metadata": {
        "id": "9e7a2b4b"
      },
      "source": [
        "#### Load the dataset from keras."
      ]
    },
    {
      "cell_type": "code",
      "execution_count": null,
      "id": "c961b101",
      "metadata": {
        "colab": {
          "base_uri": "https://localhost:8080/"
        },
        "id": "c961b101",
        "outputId": "48ac8f2a-b4f3-405c-96c0-4796b2d3352a"
      },
      "outputs": [
        {
          "output_type": "stream",
          "name": "stdout",
          "text": [
            "Downloading data from https://storage.googleapis.com/tensorflow/tf-keras-datasets/train-labels-idx1-ubyte.gz\n",
            "29515/29515 [==============================] - 0s 0us/step\n",
            "Downloading data from https://storage.googleapis.com/tensorflow/tf-keras-datasets/train-images-idx3-ubyte.gz\n",
            "26421880/26421880 [==============================] - 0s 0us/step\n",
            "Downloading data from https://storage.googleapis.com/tensorflow/tf-keras-datasets/t10k-labels-idx1-ubyte.gz\n",
            "5148/5148 [==============================] - 0s 0us/step\n",
            "Downloading data from https://storage.googleapis.com/tensorflow/tf-keras-datasets/t10k-images-idx3-ubyte.gz\n",
            "4422102/4422102 [==============================] - 0s 0us/step\n"
          ]
        }
      ],
      "source": [
        "(x_train, y_train), (x_test, y_test)= keras.datasets.fashion_mnist.load_data()"
      ]
    },
    {
      "cell_type": "markdown",
      "id": "2ccb5449",
      "metadata": {
        "id": "2ccb5449"
      },
      "source": [
        "#### Shape of the train samples and the train labels"
      ]
    },
    {
      "cell_type": "code",
      "execution_count": null,
      "id": "d5f8a7ab",
      "metadata": {
        "colab": {
          "base_uri": "https://localhost:8080/"
        },
        "id": "d5f8a7ab",
        "outputId": "01c4e0b1-19bf-4835-9476-6cc1f3ab5abe"
      },
      "outputs": [
        {
          "output_type": "stream",
          "name": "stdout",
          "text": [
            "(60000, 28, 28)\n",
            "(60000,)\n",
            "(10000, 28, 28)\n",
            "(10000,)\n"
          ]
        }
      ],
      "source": [
        "print(np.shape(x_train))\n",
        "print(np.shape(y_train))\n",
        "print(np.shape(x_test))\n",
        "print(np.shape(y_test))"
      ]
    },
    {
      "cell_type": "markdown",
      "id": "f2fb22ce",
      "metadata": {
        "id": "f2fb22ce"
      },
      "source": [
        "#### Category dictionary:\n",
        "\n",
        "A dictionary with the corresponding values of each category."
      ]
    },
    {
      "cell_type": "code",
      "execution_count": null,
      "id": "f06cd74c",
      "metadata": {
        "id": "f06cd74c"
      },
      "outputs": [],
      "source": [
        "mnist_classes= {0:\"T-shirt/top\",\n",
        "                1:\"Trouser\",\n",
        "                2:\"Pullover\",\n",
        "                3:\"Dress\",\n",
        "                4:\"Coat\",\n",
        "                5:\"Sandal\",\n",
        "                6:\"Shirt\",\n",
        "                7:\"Sneaker\",\n",
        "                8:\"Bag\",\n",
        "                9:\"Ankle boot\"}"
      ]
    },
    {
      "cell_type": "markdown",
      "id": "31799bdc",
      "metadata": {
        "id": "31799bdc"
      },
      "source": [
        "#### Plotting a sample:\n",
        "\n",
        "A sample of the training set is plotted as a reference of the images. The sample is chosen randomly and it shows its corresponding category."
      ]
    },
    {
      "cell_type": "code",
      "execution_count": null,
      "id": "09316100",
      "metadata": {
        "id": "09316100"
      },
      "outputs": [],
      "source": [
        "sample = np.random.randint(0, x_train.shape[0])"
      ]
    },
    {
      "cell_type": "code",
      "execution_count": null,
      "id": "dd6dad73",
      "metadata": {
        "colab": {
          "base_uri": "https://localhost:8080/",
          "height": 217
        },
        "id": "dd6dad73",
        "outputId": "324dcba1-a704-4691-e77c-b8c6b79fddc5"
      },
      "outputs": [
        {
          "output_type": "display_data",
          "data": {
            "text/plain": [
              "<Figure size 200x200 with 1 Axes>"
            ],
            "image/png": "[encoded data removed]"
          },
          "metadata": {}
        }
      ],
      "source": [
        "plt.figure(figsize = (2,2))\n",
        "mnist_img = x_train[sample]\n",
        "plt.imshow(mnist_img,cmap=\"Greys\")\n",
        "ax = plt.gca()"
      ]
    },
    {
      "cell_type": "code",
      "execution_count": null,
      "id": "9c6ad979",
      "metadata": {
        "colab": {
          "base_uri": "https://localhost:8080/"
        },
        "id": "9c6ad979",
        "outputId": "eb168257-57d2-4be7-9cdb-6c4c9d96d269"
      },
      "outputs": [
        {
          "output_type": "stream",
          "name": "stdout",
          "text": [
            "Dress\n"
          ]
        }
      ],
      "source": [
        "print(mnist_classes[y_train[sample]])"
      ]
    },
    {
      "cell_type": "markdown",
      "id": "2ebe3e44",
      "metadata": {
        "id": "2ebe3e44"
      },
      "source": [
        "#### Data preprocessing.\n",
        "It is necesseray to preprocess the data in order to feed the neural network with the appropriate format.\n",
        "\n",
        "Since the model arquitecture is a simple one consisting of\n",
        "a couple of sequential dense layers, the data needs to be reshaped to fit the input shape; in this case instead of a two dimensional format, reshaping the images to a flatten shape of one dimension (28*28=784) will allow the model to process the data with the neurons of the network.\n",
        "\n",
        "The format of the labels is also changed to a one-hot encoding that allows to use the 'sparse_categorical_crossentropy' loss function."
      ]
    },
    {
      "cell_type": "code",
      "execution_count": null,
      "id": "350eaf01",
      "metadata": {
        "colab": {
          "base_uri": "https://localhost:8080/"
        },
        "id": "350eaf01",
        "outputId": "2593d444-3d19-42f8-cade-6c21a6181c6b"
      },
      "outputs": [
        {
          "output_type": "execute_result",
          "data": {
            "text/plain": [
              "array([[0., 0., 0., ..., 0., 0., 1.],\n",
              "       [0., 0., 1., ..., 0., 0., 0.],\n",
              "       [0., 1., 0., ..., 0., 0., 0.],\n",
              "       ...,\n",
              "       [0., 0., 0., ..., 0., 1., 0.],\n",
              "       [0., 1., 0., ..., 0., 0., 0.],\n",
              "       [0., 0., 0., ..., 0., 0., 0.]], dtype=float32)"
            ]
          },
          "metadata": {},
          "execution_count": 8
        }
      ],
      "source": [
        "n_classes=10\n",
        "keras.utils.to_categorical(y_train, n_classes)\n",
        "keras.utils.to_categorical(y_test, n_classes)"
      ]
    },
    {
      "cell_type": "code",
      "execution_count": null,
      "id": "71f14433",
      "metadata": {
        "id": "71f14433"
      },
      "outputs": [],
      "source": [
        "x_train = x_train.reshape(60000, 784).astype('float32')\n",
        "x_test = x_test.reshape(10000, 784).astype('float32')\n",
        "x_train /= 255\n",
        "x_test /= 255"
      ]
    },
    {
      "cell_type": "markdown",
      "id": "39996130",
      "metadata": {
        "id": "39996130"
      },
      "source": [
        "#### Neural network model\n",
        "\n",
        "A sequential model with two hidden layers. The purpose of this exercise is to use a simple neural network to classify the images."
      ]
    },
    {
      "cell_type": "code",
      "execution_count": null,
      "id": "e6f109ed",
      "metadata": {
        "id": "e6f109ed"
      },
      "outputs": [],
      "source": [
        "model = keras.models.Sequential()\n",
        "\n",
        "model.add(keras.layers.Dense(16, activation='relu', input_shape=(784,)))\n",
        "\n",
        "model.add(keras.layers.Dense(32, activation='relu'))\n",
        "\n",
        "model.add(keras.layers.Dense(10, activation='softmax'))"
      ]
    },
    {
      "cell_type": "markdown",
      "source": [
        "#### Summary of the model"
      ],
      "metadata": {
        "id": "CFz9CeM2kobF"
      },
      "id": "CFz9CeM2kobF"
    },
    {
      "cell_type": "code",
      "execution_count": null,
      "id": "d66705b5",
      "metadata": {
        "colab": {
          "base_uri": "https://localhost:8080/"
        },
        "id": "d66705b5",
        "outputId": "20a0aa74-82c6-43d9-c9ec-600fbf1b02b1"
      },
      "outputs": [
        {
          "output_type": "stream",
          "name": "stdout",
          "text": [
            "Model: \"sequential\"\n",
            "_________________________________________________________________\n",
            " Layer (type)                Output Shape              Param #   \n",
            "=================================================================\n",
            " dense (Dense)               (None, 16)                12560     \n",
            "                                                                 \n",
            " dense_1 (Dense)             (None, 32)                544       \n",
            "                                                                 \n",
            " dense_2 (Dense)             (None, 10)                330       \n",
            "                                                                 \n",
            "=================================================================\n",
            "Total params: 13434 (52.48 KB)\n",
            "Trainable params: 13434 (52.48 KB)\n",
            "Non-trainable params: 0 (0.00 Byte)\n",
            "_________________________________________________________________\n"
          ]
        }
      ],
      "source": [
        "model.summary()"
      ]
    },
    {
      "cell_type": "markdown",
      "source": [
        "The output of the model's summary shows that it is a very simple model with only 13434 parameters to train. This is a very small quatity compared to the millions other arquitectures have; of course those are more accurate and trained for more complex tasks or difficult problems. However the simple arquitecture of the model presented here really shows the capabilities of deep learning."
      ],
      "metadata": {
        "id": "uiqFT3AllccN"
      },
      "id": "uiqFT3AllccN"
    },
    {
      "cell_type": "markdown",
      "source": [
        "#### Compile and train the model.\n",
        "\n",
        "To compile the model the sparse categorical crossentropy, adam and accuracy where used as loss function, as optimizer and metrics respectively.\n",
        "\n"
      ],
      "metadata": {
        "id": "L1rhMgNYmU7L"
      },
      "id": "L1rhMgNYmU7L"
    },
    {
      "cell_type": "code",
      "execution_count": null,
      "id": "f91a1650",
      "metadata": {
        "id": "f91a1650"
      },
      "outputs": [],
      "source": [
        "model.compile(loss='sparse_categorical_crossentropy', optimizer='adam', metrics=['accuracy'])"
      ]
    },
    {
      "cell_type": "markdown",
      "source": [
        "To train the model 25 epochs are more than enough for the neural network to capture the necessary features."
      ],
      "metadata": {
        "id": "BNgWQRiwteNz"
      },
      "id": "BNgWQRiwteNz"
    },
    {
      "cell_type": "code",
      "execution_count": null,
      "id": "c9384776",
      "metadata": {
        "colab": {
          "base_uri": "https://localhost:8080/"
        },
        "id": "c9384776",
        "outputId": "fc545dbb-c41d-44f6-f741-fb31c2ca42f0"
      },
      "outputs": [
        {
          "output_type": "stream",
          "name": "stdout",
          "text": [
            "Epoch 1/25\n",
            "469/469 [==============================] - 7s 10ms/step - loss: 0.7337 - accuracy: 0.7430 - val_loss: 0.5171 - val_accuracy: 0.8179\n",
            "Epoch 2/25\n",
            "469/469 [==============================] - 4s 9ms/step - loss: 0.4574 - accuracy: 0.8378 - val_loss: 0.4582 - val_accuracy: 0.8364\n",
            "Epoch 3/25\n",
            "469/469 [==============================] - 4s 9ms/step - loss: 0.4143 - accuracy: 0.8535 - val_loss: 0.4389 - val_accuracy: 0.8410\n",
            "Epoch 4/25\n",
            "469/469 [==============================] - 4s 8ms/step - loss: 0.3917 - accuracy: 0.8599 - val_loss: 0.4183 - val_accuracy: 0.8503\n",
            "Epoch 5/25\n",
            "469/469 [==============================] - 2s 4ms/step - loss: 0.3761 - accuracy: 0.8660 - val_loss: 0.4032 - val_accuracy: 0.8555\n",
            "Epoch 6/25\n",
            "469/469 [==============================] - 2s 4ms/step - loss: 0.3662 - accuracy: 0.8684 - val_loss: 0.4026 - val_accuracy: 0.8541\n",
            "Epoch 7/25\n",
            "469/469 [==============================] - 3s 6ms/step - loss: 0.3580 - accuracy: 0.8714 - val_loss: 0.3987 - val_accuracy: 0.8588\n",
            "Epoch 8/25\n",
            "469/469 [==============================] - 2s 4ms/step - loss: 0.3493 - accuracy: 0.8737 - val_loss: 0.3941 - val_accuracy: 0.8591\n",
            "Epoch 9/25\n",
            "469/469 [==============================] - 2s 4ms/step - loss: 0.3437 - accuracy: 0.8766 - val_loss: 0.3887 - val_accuracy: 0.8595\n",
            "Epoch 10/25\n",
            "469/469 [==============================] - 2s 4ms/step - loss: 0.3361 - accuracy: 0.8781 - val_loss: 0.4161 - val_accuracy: 0.8536\n",
            "Epoch 11/25\n",
            "469/469 [==============================] - 2s 4ms/step - loss: 0.3303 - accuracy: 0.8798 - val_loss: 0.3860 - val_accuracy: 0.8607\n",
            "Epoch 12/25\n",
            "469/469 [==============================] - 2s 5ms/step - loss: 0.3277 - accuracy: 0.8805 - val_loss: 0.3841 - val_accuracy: 0.8654\n",
            "Epoch 13/25\n",
            "469/469 [==============================] - 2s 5ms/step - loss: 0.3229 - accuracy: 0.8824 - val_loss: 0.3735 - val_accuracy: 0.8649\n",
            "Epoch 14/25\n",
            "469/469 [==============================] - 2s 4ms/step - loss: 0.3177 - accuracy: 0.8838 - val_loss: 0.3804 - val_accuracy: 0.8641\n",
            "Epoch 15/25\n",
            "469/469 [==============================] - 2s 4ms/step - loss: 0.3149 - accuracy: 0.8852 - val_loss: 0.3835 - val_accuracy: 0.8606\n",
            "Epoch 16/25\n",
            "469/469 [==============================] - 2s 4ms/step - loss: 0.3091 - accuracy: 0.8870 - val_loss: 0.3890 - val_accuracy: 0.8627\n",
            "Epoch 17/25\n",
            "469/469 [==============================] - 2s 4ms/step - loss: 0.3100 - accuracy: 0.8863 - val_loss: 0.3811 - val_accuracy: 0.8649\n",
            "Epoch 18/25\n",
            "469/469 [==============================] - 2s 4ms/step - loss: 0.3053 - accuracy: 0.8882 - val_loss: 0.3832 - val_accuracy: 0.8643\n",
            "Epoch 19/25\n",
            "469/469 [==============================] - 2s 5ms/step - loss: 0.3018 - accuracy: 0.8885 - val_loss: 0.3795 - val_accuracy: 0.8655\n",
            "Epoch 20/25\n",
            "469/469 [==============================] - 2s 5ms/step - loss: 0.2997 - accuracy: 0.8885 - val_loss: 0.3744 - val_accuracy: 0.8696\n",
            "Epoch 21/25\n",
            "469/469 [==============================] - 2s 3ms/step - loss: 0.2977 - accuracy: 0.8904 - val_loss: 0.3837 - val_accuracy: 0.8651\n",
            "Epoch 22/25\n",
            "469/469 [==============================] - 2s 4ms/step - loss: 0.2969 - accuracy: 0.8900 - val_loss: 0.3761 - val_accuracy: 0.8650\n",
            "Epoch 23/25\n",
            "469/469 [==============================] - 2s 4ms/step - loss: 0.2930 - accuracy: 0.8919 - val_loss: 0.3702 - val_accuracy: 0.8678\n",
            "Epoch 24/25\n",
            "469/469 [==============================] - 2s 4ms/step - loss: 0.2903 - accuracy: 0.8927 - val_loss: 0.3773 - val_accuracy: 0.8691\n",
            "Epoch 25/25\n",
            "469/469 [==============================] - 2s 4ms/step - loss: 0.2882 - accuracy: 0.8930 - val_loss: 0.3780 - val_accuracy: 0.8659\n"
          ]
        },
        {
          "output_type": "execute_result",
          "data": {
            "text/plain": [
              "<keras.src.callbacks.History at 0x79cf88df1db0>"
            ]
          },
          "metadata": {},
          "execution_count": 13
        }
      ],
      "source": [
        "model.fit(x_train, y_train, batch_size=128, epochs=25,\n",
        "          verbose=1, validation_data=(x_test, y_test))"
      ]
    },
    {
      "cell_type": "markdown",
      "source": [
        "#### Model's evaluation.\n",
        "\n",
        "The model's evalution outputs an accuracy of 86%. The result might not look impressive at first glance but despite it used few parameters and the images are not very clear the model was still able to achieve a 86% of accuracy."
      ],
      "metadata": {
        "id": "ohusFS8Xm6UE"
      },
      "id": "ohusFS8Xm6UE"
    },
    {
      "cell_type": "code",
      "execution_count": null,
      "id": "cc046120",
      "metadata": {
        "id": "cc046120",
        "colab": {
          "base_uri": "https://localhost:8080/"
        },
        "outputId": "c6877730-75f2-4aa0-c1f3-3fa3e1b805c7"
      },
      "outputs": [
        {
          "output_type": "stream",
          "name": "stdout",
          "text": [
            "313/313 [==============================] - 1s 3ms/step - loss: 0.3780 - accuracy: 0.8659\n"
          ]
        },
        {
          "output_type": "execute_result",
          "data": {
            "text/plain": [
              "[0.377964586019516, 0.8658999800682068]"
            ]
          },
          "metadata": {},
          "execution_count": 14
        }
      ],
      "source": [
        "model.evaluate(x=x_test, y=y_test)"
      ]
    },
    {
      "cell_type": "markdown",
      "source": [
        "#### Predicting a random image category.\n",
        "\n",
        "It's time to use the trained model and see if it can predict a random image."
      ],
      "metadata": {
        "id": "fYTffOcD0Zpt"
      },
      "id": "fYTffOcD0Zpt"
    },
    {
      "cell_type": "code",
      "execution_count": null,
      "id": "1c2f0c5a",
      "metadata": {
        "id": "1c2f0c5a"
      },
      "outputs": [],
      "source": [
        "sample_test = np.random.randint(0, x_test.shape[0])\n"
      ]
    },
    {
      "cell_type": "code",
      "execution_count": null,
      "id": "fcad1420",
      "metadata": {
        "id": "fcad1420",
        "colab": {
          "base_uri": "https://localhost:8080/"
        },
        "outputId": "a7e31166-bd81-4174-e328-cc461672a27b"
      },
      "outputs": [
        {
          "output_type": "execute_result",
          "data": {
            "text/plain": [
              "(784,)"
            ]
          },
          "metadata": {},
          "execution_count": 16
        }
      ],
      "source": [
        "np.shape(x_test[sample_test])"
      ]
    },
    {
      "cell_type": "code",
      "execution_count": null,
      "id": "9f49604a",
      "metadata": {
        "id": "9f49604a"
      },
      "outputs": [],
      "source": [
        "x = x_test[sample_test].reshape(1,784)"
      ]
    },
    {
      "cell_type": "code",
      "execution_count": null,
      "id": "bde8e4d0",
      "metadata": {
        "scrolled": true,
        "id": "bde8e4d0",
        "colab": {
          "base_uri": "https://localhost:8080/"
        },
        "outputId": "ad8b31a2-6c28-46c7-f982-f0faa88acba0"
      },
      "outputs": [
        {
          "output_type": "stream",
          "name": "stdout",
          "text": [
            "1/1 [==============================] - 0s 137ms/step\n"
          ]
        }
      ],
      "source": [
        "result= model.predict(x)"
      ]
    },
    {
      "cell_type": "markdown",
      "source": [
        "The image is predicted and an index of the image is selected to see if it matches the same index of the label."
      ],
      "metadata": {
        "id": "wVBs05suG8Uq"
      },
      "id": "wVBs05suG8Uq"
    },
    {
      "cell_type": "code",
      "execution_count": null,
      "id": "3230b449",
      "metadata": {
        "id": "3230b449"
      },
      "outputs": [],
      "source": [
        "prediction= result.argmax()"
      ]
    },
    {
      "cell_type": "markdown",
      "source": [
        "The prediction outputs \"T-shirt/top\" and the label of the sample is the exact same which means the prediction is correct. And the end the image is displayed to confirm it is a T-shirt/top"
      ],
      "metadata": {
        "id": "cg14d9KLHSeA"
      },
      "id": "cg14d9KLHSeA"
    },
    {
      "cell_type": "code",
      "execution_count": null,
      "id": "3f871922",
      "metadata": {
        "id": "3f871922",
        "colab": {
          "base_uri": "https://localhost:8080/",
          "height": 35
        },
        "outputId": "418e7ab5-a22c-4dab-a94a-32bd362c9f8b"
      },
      "outputs": [
        {
          "output_type": "execute_result",
          "data": {
            "text/plain": [
              "'T-shirt/top'"
            ],
            "application/vnd.google.colaboratory.intrinsic+json": {
              "type": "string"
            }
          },
          "metadata": {},
          "execution_count": 20
        }
      ],
      "source": [
        "mnist_classes[prediction]"
      ]
    },
    {
      "cell_type": "code",
      "execution_count": null,
      "id": "20f1171f",
      "metadata": {
        "id": "20f1171f",
        "colab": {
          "base_uri": "https://localhost:8080/"
        },
        "outputId": "dd115a68-c6e4-404a-95b2-4f1c1e962f6e"
      },
      "outputs": [
        {
          "output_type": "stream",
          "name": "stdout",
          "text": [
            "T-shirt/top\n"
          ]
        }
      ],
      "source": [
        "print(mnist_classes[y_test[sample_test]])"
      ]
    },
    {
      "cell_type": "code",
      "execution_count": null,
      "id": "c7e51b85",
      "metadata": {
        "id": "c7e51b85",
        "colab": {
          "base_uri": "https://localhost:8080/",
          "height": 217
        },
        "outputId": "22ae86b6-13c6-4f3a-9a9d-3614232d8fa6"
      },
      "outputs": [
        {
          "output_type": "display_data",
          "data": {
            "text/plain": [
              "<Figure size 200x200 with 1 Axes>"
            ],
            "image/png": "[encoded data removed]"
          },
          "metadata": {}
        }
      ],
      "source": [
        "x_test = x_test.reshape(10000, 28, 28).astype('float32')\n",
        "plt.figure(figsize = (2,2))\n",
        "mnist_img = x_test[sample_test]\n",
        "plt.imshow(mnist_img,cmap=\"Greys\")\n",
        "ax = plt.gca()"
      ]
    }
  ],
  "metadata": {
    "kernelspec": {
      "display_name": "Python 3 (ipykernel)",
      "language": "python",
      "name": "python3"
    },
    "language_info": {
      "codemirror_mode": {
        "name": "ipython",
        "version": 3
      },
      "file_extension": ".py",
      "mimetype": "text/x-python",
      "name": "python",
      "nbconvert_exporter": "python",
      "pygments_lexer": "ipython3",
      "version": "3.9.18"
    },
    "colab": {
      "provenance": []
    }
  },
  "nbformat": 4,
  "nbformat_minor": 5
}