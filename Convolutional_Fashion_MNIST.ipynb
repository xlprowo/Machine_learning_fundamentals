{
  "cells": [
    {
      "cell_type": "markdown",
      "id": "61756e33",
      "metadata": {
        "id": "61756e33"
      },
      "source": [
        "## Convolutional neural network in keras. Fashion MNIST\n",
        "\n",
        "Objective:\n",
        "Model and train a convolutional neural network using Keras in order to classify the elements of a dataset correctly."
      ]
    },
    {
      "cell_type": "markdown",
      "id": "aa436b16",
      "metadata": {
        "id": "aa436b16"
      },
      "source": [
        "#### Import libraries.\n",
        "\n",
        "All the necessary libraries are imported in the next code block."
      ]
    },
    {
      "cell_type": "code",
      "execution_count": null,
      "id": "066dc8ea",
      "metadata": {
        "id": "066dc8ea"
      },
      "outputs": [],
      "source": [
        "import tensorflow as tf\n",
        "import numpy as np\n",
        "from tensorflow import keras\n",
        "from keras.models import Sequential\n",
        "from keras.layers import Dense, Dropout, Flatten, Conv2D, MaxPooling2D\n",
        "from keras.layers import BatchNormalization\n",
        "from matplotlib import pyplot as plt"
      ]
    },
    {
      "cell_type": "markdown",
      "source": [
        "The data is retrived and divided into two, one for training and the other for testing."
      ],
      "metadata": {
        "id": "FvXU0MXSOgz8"
      },
      "id": "FvXU0MXSOgz8"
    },
    {
      "cell_type": "code",
      "execution_count": null,
      "id": "d9e53868",
      "metadata": {
        "id": "d9e53868",
        "colab": {
          "base_uri": "https://localhost:8080/"
        },
        "outputId": "11973169-5c1b-470a-88e5-637054825643"
      },
      "outputs": [
        {
          "output_type": "stream",
          "name": "stdout",
          "text": [
            "Downloading data from https://storage.googleapis.com/tensorflow/tf-keras-datasets/train-labels-idx1-ubyte.gz\n",
            "29515/29515 [==============================] - 0s 1us/step\n",
            "Downloading data from https://storage.googleapis.com/tensorflow/tf-keras-datasets/train-images-idx3-ubyte.gz\n",
            "26421880/26421880 [==============================] - 2s 0us/step\n",
            "Downloading data from https://storage.googleapis.com/tensorflow/tf-keras-datasets/t10k-labels-idx1-ubyte.gz\n",
            "5148/5148 [==============================] - 0s 0us/step\n",
            "Downloading data from https://storage.googleapis.com/tensorflow/tf-keras-datasets/t10k-images-idx3-ubyte.gz\n",
            "4422102/4422102 [==============================] - 1s 0us/step\n"
          ]
        }
      ],
      "source": [
        "(x_train, y_train), (x_test, y_test)= keras.datasets.fashion_mnist.load_data()"
      ]
    },
    {
      "cell_type": "markdown",
      "source": [
        "#### Shape of the data.\n",
        "\n",
        "In this exercise the model's input will keep the 2 dimensional format of the images (28x28) instead of a flatten input. The 60000 and 10000 represent the number of samples in the training and test sets respectively."
      ],
      "metadata": {
        "id": "trQbTHRmOtot"
      },
      "id": "trQbTHRmOtot"
    },
    {
      "cell_type": "code",
      "execution_count": null,
      "id": "aaac2929",
      "metadata": {
        "colab": {
          "base_uri": "https://localhost:8080/"
        },
        "id": "aaac2929",
        "outputId": "8fc92598-f367-4497-98f8-ca5494fe5715"
      },
      "outputs": [
        {
          "output_type": "stream",
          "name": "stdout",
          "text": [
            "(60000, 28, 28)\n",
            "(60000,)\n",
            "(10000, 28, 28)\n",
            "(10000,)\n"
          ]
        }
      ],
      "source": [
        "print(np.shape(x_train))\n",
        "print(np.shape(y_train))\n",
        "print(np.shape(x_test))\n",
        "print(np.shape(y_test))"
      ]
    },
    {
      "cell_type": "markdown",
      "source": [
        "The labels of the data consist in ten different numbers that reference cloth items. The following block contains the dictionary of each of the items with their respective number than represents them."
      ],
      "metadata": {
        "id": "abaWBW_3PKFS"
      },
      "id": "abaWBW_3PKFS"
    },
    {
      "cell_type": "code",
      "execution_count": null,
      "id": "ca583366",
      "metadata": {
        "id": "ca583366"
      },
      "outputs": [],
      "source": [
        "mnist_classes= {0:\"T-shirt/top\",\n",
        "                1:\"Trouser\",\n",
        "                2:\"Pullover\",\n",
        "                3:\"Dress\",\n",
        "                4:\"Coat\",\n",
        "                5:\"Sandal\",\n",
        "                6:\"Shirt\",\n",
        "                7:\"Sneaker\",\n",
        "                8:\"Bag\",\n",
        "                9:\"Ankle boot\"}"
      ]
    },
    {
      "cell_type": "markdown",
      "source": [
        "In the next two code blocks a random sample of the training data set is selected and the image displayed."
      ],
      "metadata": {
        "id": "ArJgaLmAP0Om"
      },
      "id": "ArJgaLmAP0Om"
    },
    {
      "cell_type": "code",
      "execution_count": null,
      "id": "f8fb8b6e",
      "metadata": {
        "id": "f8fb8b6e"
      },
      "outputs": [],
      "source": [
        "sample = np.random.randint(0, x_train.shape[0])"
      ]
    },
    {
      "cell_type": "code",
      "execution_count": null,
      "id": "d10e8fbc",
      "metadata": {
        "colab": {
          "base_uri": "https://localhost:8080/",
          "height": 217
        },
        "id": "d10e8fbc",
        "outputId": "1eb4e22d-e27e-4e9a-99e6-febc8cfe7d6a"
      },
      "outputs": [
        {
          "output_type": "display_data",
          "data": {
            "text/plain": [
              "<Figure size 200x200 with 1 Axes>"
            ],
            "image/png": "[encoded data removed]"
          },
          "metadata": {}
        }
      ],
      "source": [
        "\n",
        "plt.figure(figsize = (2,2))\n",
        "mnist_img = x_train[sample]\n",
        "plt.imshow(mnist_img,cmap=\"Greys\")\n",
        "ax = plt.gca()\n"
      ]
    },
    {
      "cell_type": "markdown",
      "source": [
        "#### Preprocessing the data.\n",
        "\n",
        "In order for the model to get the most out of the data is important to preprocess it. However, for this exercise only labels will be preprocess(one-hot encoding) and the rest of the data will fed to the model as it is after downloading. The purpose of this is to see if the convolutional model's accuracy improves more than a simple linear model.\n",
        "\n",
        "A couple of the preprocess techniques than could have been applied are: normalization and data augmentation."
      ],
      "metadata": {
        "id": "s9ai75RqP--4"
      },
      "id": "s9ai75RqP--4"
    },
    {
      "cell_type": "code",
      "execution_count": null,
      "id": "d56937a4",
      "metadata": {
        "colab": {
          "base_uri": "https://localhost:8080/"
        },
        "id": "d56937a4",
        "outputId": "387b7aea-b904-4448-d60e-df4db22a2f13"
      },
      "outputs": [
        {
          "output_type": "execute_result",
          "data": {
            "text/plain": [
              "array([[0., 0., 0., ..., 0., 0., 1.],\n",
              "       [0., 0., 1., ..., 0., 0., 0.],\n",
              "       [0., 1., 0., ..., 0., 0., 0.],\n",
              "       ...,\n",
              "       [0., 0., 0., ..., 0., 1., 0.],\n",
              "       [0., 1., 0., ..., 0., 0., 0.],\n",
              "       [0., 0., 0., ..., 0., 0., 0.]], dtype=float32)"
            ]
          },
          "metadata": {},
          "execution_count": 7
        }
      ],
      "source": [
        "n_classes=10\n",
        "keras.utils.to_categorical(y_train, n_classes)\n",
        "keras.utils.to_categorical(y_test, n_classes)"
      ]
    },
    {
      "cell_type": "markdown",
      "id": "6f913e77",
      "metadata": {
        "id": "6f913e77"
      },
      "source": [
        "### Model 2\n",
        "\n",
        "For the model three groups of layers with convolutional layers will be defined and then there will be a flatten layer followed by a dense  and a final dense layer to provide the output's result.\n",
        "\n",
        "In the first group there is a convolutional layer and a normalization layer for the batch. The second group will be a convolution layer, a max-pooling layer and a normalization layer. The third group is the same as the second.\n",
        "\n"
      ]
    },
    {
      "cell_type": "code",
      "source": [
        "model = Sequential()\n",
        "\n",
        "model.add(Conv2D(128, kernel_size=(3, 3), strides=(1, 1), padding=\"same\", activation='relu', input_shape=(28, 28, 1)))\n",
        "model.add(BatchNormalization())\n",
        "\n",
        "model.add(Conv2D(256, kernel_size=(3, 3), strides=(1, 1), padding=\"same\", activation='relu'))\n",
        "model.add(MaxPooling2D(pool_size=(3, 3), strides=(2, 2)))\n",
        "model.add(BatchNormalization())\n",
        "\n",
        "model.add(Conv2D(128, kernel_size=(3, 3), padding=\"same\", strides=(1, 1), activation='relu'))\n",
        "model.add(MaxPooling2D(pool_size=(3, 3), strides=(2, 2)))\n",
        "model.add(BatchNormalization())\n",
        "\n",
        "model.add(Flatten())\n",
        "model.add(Dense(512, activation='relu'))\n",
        "model.add(Dropout(0.5))\n",
        "\n",
        "\n",
        "model.add(Dense(10, activation='softmax'))"
      ],
      "metadata": {
        "id": "vhnxXUGHwrbA"
      },
      "id": "vhnxXUGHwrbA",
      "execution_count": null,
      "outputs": []
    },
    {
      "cell_type": "markdown",
      "source": [
        "### Model's information.\n",
        "\n",
        "The model's information is displayed in the following code block. The model is not very deep, however it still has a total of 2,957,450 trainable parameters. The model could be more complex. However the model presented here is good enough to surpass a fully-dense model."
      ],
      "metadata": {
        "id": "K4VCXVCSu4ZL"
      },
      "id": "K4VCXVCSu4ZL"
    },
    {
      "cell_type": "code",
      "execution_count": null,
      "id": "fc0b4b36",
      "metadata": {
        "colab": {
          "base_uri": "https://localhost:8080/"
        },
        "id": "fc0b4b36",
        "outputId": "3fdeeb49-8b75-4a65-b30b-fc44dc738f31"
      },
      "outputs": [
        {
          "output_type": "stream",
          "name": "stdout",
          "text": [
            "Model: \"sequential\"\n",
            "_________________________________________________________________\n",
            " Layer (type)                Output Shape              Param #   \n",
            "=================================================================\n",
            " conv2d (Conv2D)             (None, 28, 28, 128)       1280      \n",
            "                                                                 \n",
            " batch_normalization (Batch  (None, 28, 28, 128)       512       \n",
            " Normalization)                                                  \n",
            "                                                                 \n",
            " conv2d_1 (Conv2D)           (None, 28, 28, 256)       295168    \n",
            "                                                                 \n",
            " max_pooling2d (MaxPooling2  (None, 13, 13, 256)       0         \n",
            " D)                                                              \n",
            "                                                                 \n",
            " batch_normalization_1 (Bat  (None, 13, 13, 256)       1024      \n",
            " chNormalization)                                                \n",
            "                                                                 \n",
            " conv2d_2 (Conv2D)           (None, 13, 13, 128)       295040    \n",
            "                                                                 \n",
            " max_pooling2d_1 (MaxPoolin  (None, 6, 6, 128)         0         \n",
            " g2D)                                                            \n",
            "                                                                 \n",
            " batch_normalization_2 (Bat  (None, 6, 6, 128)         512       \n",
            " chNormalization)                                                \n",
            "                                                                 \n",
            " flatten (Flatten)           (None, 4608)              0         \n",
            "                                                                 \n",
            " dense (Dense)               (None, 512)               2359808   \n",
            "                                                                 \n",
            " dropout (Dropout)           (None, 512)               0         \n",
            "                                                                 \n",
            " dense_1 (Dense)             (None, 10)                5130      \n",
            "                                                                 \n",
            "=================================================================\n",
            "Total params: 2958474 (11.29 MB)\n",
            "Trainable params: 2957450 (11.28 MB)\n",
            "Non-trainable params: 1024 (4.00 KB)\n",
            "_________________________________________________________________\n"
          ]
        }
      ],
      "source": [
        "model.summary()"
      ]
    },
    {
      "cell_type": "markdown",
      "source": [
        "### Compile and training.\n",
        "\n",
        "Once the model is defined, it is time to compile and choose the loss function, the optimizer and the metrics that will be used.\n",
        "\n",
        "Again, for this model, things will be simple:\n",
        "\n",
        "The sparse categorical crossentropy function to classify the data which has various labels. The optimizer will be one that is commonly used for its good performance and the accuracy metrics to see how well it predicts a correct label"
      ],
      "metadata": {
        "id": "G9XEW5ptwaYu"
      },
      "id": "G9XEW5ptwaYu"
    },
    {
      "cell_type": "code",
      "execution_count": null,
      "id": "d1e1f0ac",
      "metadata": {
        "id": "d1e1f0ac"
      },
      "outputs": [],
      "source": [
        "model.compile(loss='sparse_categorical_crossentropy', optimizer='adam', metrics=['accuracy'])"
      ]
    },
    {
      "cell_type": "code",
      "execution_count": null,
      "id": "a5ce9d45",
      "metadata": {
        "colab": {
          "base_uri": "https://localhost:8080/"
        },
        "id": "a5ce9d45",
        "outputId": "4abbd22d-ac67-4885-c3b9-61658019370a"
      },
      "outputs": [
        {
          "output_type": "stream",
          "name": "stdout",
          "text": [
            "Epoch 1/30\n",
            "329/329 [==============================] - 29s 44ms/step - loss: 0.5279 - accuracy: 0.8252 - val_loss: 0.3272 - val_accuracy: 0.8809\n",
            "Epoch 2/30\n",
            "329/329 [==============================] - 15s 45ms/step - loss: 0.3126 - accuracy: 0.8883 - val_loss: 0.3713 - val_accuracy: 0.8682\n",
            "Epoch 3/30\n",
            "329/329 [==============================] - 15s 45ms/step - loss: 0.2630 - accuracy: 0.9051 - val_loss: 0.2475 - val_accuracy: 0.9131\n",
            "Epoch 4/30\n",
            "329/329 [==============================] - 14s 43ms/step - loss: 0.2284 - accuracy: 0.9160 - val_loss: 0.2369 - val_accuracy: 0.9189\n",
            "Epoch 5/30\n",
            "329/329 [==============================] - 15s 46ms/step - loss: 0.2058 - accuracy: 0.9240 - val_loss: 0.2552 - val_accuracy: 0.9093\n",
            "Epoch 6/30\n",
            "329/329 [==============================] - 15s 44ms/step - loss: 0.1916 - accuracy: 0.9285 - val_loss: 0.2303 - val_accuracy: 0.9225\n",
            "Epoch 7/30\n",
            "329/329 [==============================] - 16s 48ms/step - loss: 0.1702 - accuracy: 0.9372 - val_loss: 0.2359 - val_accuracy: 0.9194\n",
            "Epoch 8/30\n",
            "329/329 [==============================] - 16s 48ms/step - loss: 0.1553 - accuracy: 0.9425 - val_loss: 0.2240 - val_accuracy: 0.9294\n",
            "Epoch 9/30\n",
            "329/329 [==============================] - 15s 45ms/step - loss: 0.1376 - accuracy: 0.9489 - val_loss: 0.2175 - val_accuracy: 0.9307\n",
            "Epoch 10/30\n",
            "329/329 [==============================] - 16s 47ms/step - loss: 0.1274 - accuracy: 0.9528 - val_loss: 0.2522 - val_accuracy: 0.9258\n",
            "Epoch 11/30\n",
            "329/329 [==============================] - 15s 44ms/step - loss: 0.1179 - accuracy: 0.9562 - val_loss: 0.2718 - val_accuracy: 0.9264\n",
            "Epoch 12/30\n",
            "329/329 [==============================] - 16s 48ms/step - loss: 0.1098 - accuracy: 0.9579 - val_loss: 0.2339 - val_accuracy: 0.9276\n",
            "Epoch 13/30\n",
            "329/329 [==============================] - 16s 48ms/step - loss: 0.0974 - accuracy: 0.9635 - val_loss: 0.2531 - val_accuracy: 0.9296\n",
            "Epoch 14/30\n",
            "329/329 [==============================] - 16s 47ms/step - loss: 0.0872 - accuracy: 0.9685 - val_loss: 0.2523 - val_accuracy: 0.9278\n",
            "Epoch 15/30\n",
            "329/329 [==============================] - 15s 45ms/step - loss: 0.0852 - accuracy: 0.9690 - val_loss: 0.2891 - val_accuracy: 0.9293\n",
            "Epoch 16/30\n",
            "329/329 [==============================] - 16s 47ms/step - loss: 0.0729 - accuracy: 0.9729 - val_loss: 0.2826 - val_accuracy: 0.9314\n",
            "Epoch 17/30\n",
            "329/329 [==============================] - 15s 45ms/step - loss: 0.0748 - accuracy: 0.9731 - val_loss: 0.2798 - val_accuracy: 0.9328\n",
            "Epoch 18/30\n",
            "329/329 [==============================] - 15s 45ms/step - loss: 0.0645 - accuracy: 0.9770 - val_loss: 0.2901 - val_accuracy: 0.9333\n",
            "Epoch 19/30\n",
            "329/329 [==============================] - 15s 45ms/step - loss: 0.0587 - accuracy: 0.9787 - val_loss: 0.3686 - val_accuracy: 0.9274\n",
            "Epoch 20/30\n",
            "329/329 [==============================] - 15s 45ms/step - loss: 0.0551 - accuracy: 0.9811 - val_loss: 0.4256 - val_accuracy: 0.9207\n",
            "Epoch 21/30\n",
            "329/329 [==============================] - 15s 45ms/step - loss: 0.0563 - accuracy: 0.9792 - val_loss: 0.3537 - val_accuracy: 0.9271\n",
            "Epoch 22/30\n",
            "329/329 [==============================] - 16s 47ms/step - loss: 0.0652 - accuracy: 0.9771 - val_loss: 0.2939 - val_accuracy: 0.9336\n",
            "Epoch 23/30\n",
            "329/329 [==============================] - 16s 47ms/step - loss: 0.0456 - accuracy: 0.9832 - val_loss: 0.4142 - val_accuracy: 0.9266\n",
            "Epoch 24/30\n",
            "329/329 [==============================] - 15s 45ms/step - loss: 0.0404 - accuracy: 0.9859 - val_loss: 0.3424 - val_accuracy: 0.9333\n",
            "Epoch 25/30\n",
            "329/329 [==============================] - 16s 47ms/step - loss: 0.0433 - accuracy: 0.9848 - val_loss: 0.3648 - val_accuracy: 0.9290\n",
            "Epoch 26/30\n",
            "329/329 [==============================] - 15s 45ms/step - loss: 0.0456 - accuracy: 0.9842 - val_loss: 0.3646 - val_accuracy: 0.9291\n",
            "Epoch 27/30\n",
            "329/329 [==============================] - 16s 47ms/step - loss: 0.0373 - accuracy: 0.9866 - val_loss: 0.3884 - val_accuracy: 0.9349\n",
            "Epoch 28/30\n",
            "329/329 [==============================] - 16s 47ms/step - loss: 0.0344 - accuracy: 0.9882 - val_loss: 0.4169 - val_accuracy: 0.9246\n",
            "Epoch 29/30\n",
            "329/329 [==============================] - 16s 47ms/step - loss: 0.0363 - accuracy: 0.9875 - val_loss: 0.4176 - val_accuracy: 0.9263\n",
            "Epoch 30/30\n",
            "329/329 [==============================] - 16s 47ms/step - loss: 0.0395 - accuracy: 0.9868 - val_loss: 0.3822 - val_accuracy: 0.9348\n"
          ]
        },
        {
          "output_type": "execute_result",
          "data": {
            "text/plain": [
              "<keras.src.callbacks.History at 0x7fe3b732f0d0>"
            ]
          },
          "metadata": {},
          "execution_count": 11
        }
      ],
      "source": [
        "model.fit(x_train, y_train, batch_size=128, epochs=30, verbose=1, validation_split=0.3, shuffle=True)"
      ]
    },
    {
      "cell_type": "markdown",
      "source": [
        "# Model's evaluation and prediction exercise.\n",
        "\n",
        "The model is evaluated with the test set. The last epoch of training returned an accuracy of 93.48% which is\n",
        "\n",
        "At the end there is a small prediction exercise for one sample."
      ],
      "metadata": {
        "id": "MM2e1tKKz0pC"
      },
      "id": "MM2e1tKKz0pC"
    },
    {
      "cell_type": "code",
      "source": [
        "model.evaluate(x=x_test, y=y_test)"
      ],
      "metadata": {
        "id": "zEzU0O8n2rp2",
        "colab": {
          "base_uri": "https://localhost:8080/"
        },
        "outputId": "d04d1043-ecb8-4b74-d603-dfda57de9eca"
      },
      "id": "zEzU0O8n2rp2",
      "execution_count": null,
      "outputs": [
        {
          "output_type": "stream",
          "name": "stdout",
          "text": [
            "313/313 [==============================] - 2s 5ms/step - loss: 0.4633 - accuracy: 0.9263\n"
          ]
        },
        {
          "output_type": "execute_result",
          "data": {
            "text/plain": [
              "[0.4632863700389862, 0.9262999892234802]"
            ]
          },
          "metadata": {},
          "execution_count": 12
        }
      ]
    },
    {
      "cell_type": "code",
      "source": [
        "sample_test = np.random.randint(0, x_test.shape[0])"
      ],
      "metadata": {
        "id": "JMepmCtJ2sTq"
      },
      "id": "JMepmCtJ2sTq",
      "execution_count": null,
      "outputs": []
    },
    {
      "cell_type": "code",
      "source": [
        "np.shape(x_test[sample_test])"
      ],
      "metadata": {
        "id": "oX1X5KqU2sWB",
        "colab": {
          "base_uri": "https://localhost:8080/"
        },
        "outputId": "d3c91eaf-89e9-463b-c3a4-759aba5d00a3"
      },
      "id": "oX1X5KqU2sWB",
      "execution_count": null,
      "outputs": [
        {
          "output_type": "execute_result",
          "data": {
            "text/plain": [
              "(28, 28)"
            ]
          },
          "metadata": {},
          "execution_count": 14
        }
      ]
    },
    {
      "cell_type": "code",
      "source": [
        "np.shape(x_test)"
      ],
      "metadata": {
        "colab": {
          "base_uri": "https://localhost:8080/"
        },
        "id": "Ubj9xHTb4PAD",
        "outputId": "62035a2b-904e-4fb3-dbad-7eead1a062a3"
      },
      "id": "Ubj9xHTb4PAD",
      "execution_count": null,
      "outputs": [
        {
          "output_type": "execute_result",
          "data": {
            "text/plain": [
              "(10000, 28, 28)"
            ]
          },
          "metadata": {},
          "execution_count": 15
        }
      ]
    },
    {
      "cell_type": "code",
      "source": [
        "x = x_test[sample_test]"
      ],
      "metadata": {
        "id": "ArbvtcsJ2sYX"
      },
      "id": "ArbvtcsJ2sYX",
      "execution_count": null,
      "outputs": []
    },
    {
      "cell_type": "code",
      "source": [
        "np.shape(x)"
      ],
      "metadata": {
        "colab": {
          "base_uri": "https://localhost:8080/"
        },
        "id": "wAxQmiTp4ect",
        "outputId": "2e916cb6-78a5-4e36-af76-e8e2c3ef6b35"
      },
      "id": "wAxQmiTp4ect",
      "execution_count": null,
      "outputs": [
        {
          "output_type": "execute_result",
          "data": {
            "text/plain": [
              "(28, 28)"
            ]
          },
          "metadata": {},
          "execution_count": 17
        }
      ]
    },
    {
      "cell_type": "code",
      "source": [
        "x = x_test[sample_test].reshape(1,28,28)"
      ],
      "metadata": {
        "id": "Tq001DWy4dCw"
      },
      "id": "Tq001DWy4dCw",
      "execution_count": null,
      "outputs": []
    },
    {
      "cell_type": "code",
      "source": [
        "np.shape(x)"
      ],
      "metadata": {
        "colab": {
          "base_uri": "https://localhost:8080/"
        },
        "id": "W-SSA7Nw4k3m",
        "outputId": "f55e130e-36f6-405a-92cf-7e5983b54158"
      },
      "id": "W-SSA7Nw4k3m",
      "execution_count": null,
      "outputs": [
        {
          "output_type": "execute_result",
          "data": {
            "text/plain": [
              "(1, 28, 28)"
            ]
          },
          "metadata": {},
          "execution_count": 19
        }
      ]
    },
    {
      "cell_type": "code",
      "execution_count": null,
      "id": "560f9e5b",
      "metadata": {
        "id": "560f9e5b",
        "colab": {
          "base_uri": "https://localhost:8080/"
        },
        "outputId": "65f413e1-5cd0-4df5-d7bb-fd3fc851e7a9"
      },
      "outputs": [
        {
          "output_type": "stream",
          "name": "stdout",
          "text": [
            "1/1 [==============================] - 0s 186ms/step\n"
          ]
        }
      ],
      "source": [
        "result= model.predict(x)"
      ]
    },
    {
      "cell_type": "code",
      "execution_count": null,
      "id": "5e0d0822",
      "metadata": {
        "id": "5e0d0822"
      },
      "outputs": [],
      "source": [
        "prediction= result.argmax()"
      ]
    },
    {
      "cell_type": "code",
      "source": [
        "mnist_classes[prediction]"
      ],
      "metadata": {
        "id": "k5VjNpsb23of",
        "colab": {
          "base_uri": "https://localhost:8080/",
          "height": 35
        },
        "outputId": "5e9b5115-64e3-4590-96dd-10df88524d4c"
      },
      "id": "k5VjNpsb23of",
      "execution_count": null,
      "outputs": [
        {
          "output_type": "execute_result",
          "data": {
            "text/plain": [
              "'Shirt'"
            ],
            "application/vnd.google.colaboratory.intrinsic+json": {
              "type": "string"
            }
          },
          "metadata": {},
          "execution_count": 22
        }
      ]
    },
    {
      "cell_type": "code",
      "source": [
        "print(mnist_classes[y_test[sample_test]])"
      ],
      "metadata": {
        "id": "_8Klmm5z231T",
        "colab": {
          "base_uri": "https://localhost:8080/"
        },
        "outputId": "0e6628f6-68de-401f-c4a9-4b4b54b43bee"
      },
      "id": "_8Klmm5z231T",
      "execution_count": null,
      "outputs": [
        {
          "output_type": "stream",
          "name": "stdout",
          "text": [
            "Shirt\n"
          ]
        }
      ]
    },
    {
      "cell_type": "code",
      "source": [
        "x_test = x_test.reshape(10000, 28, 28).astype('float32')\n",
        "plt.figure(figsize = (2,2))\n",
        "mnist_img = x_test[sample_test]\n",
        "plt.imshow(mnist_img,cmap=\"Greys\")\n",
        "ax = plt.gca()"
      ],
      "metadata": {
        "id": "6KsIBkCa27ep",
        "colab": {
          "base_uri": "https://localhost:8080/",
          "height": 217
        },
        "outputId": "40b40bf2-4d03-4d55-d1ff-4b22b257d7c2"
      },
      "id": "6KsIBkCa27ep",
      "execution_count": null,
      "outputs": [
        {
          "output_type": "display_data",
          "data": {
            "text/plain": [
              "<Figure size 200x200 with 1 Axes>"
            ],
            "image/png": "[encoded data removed]"
          },
          "metadata": {}
        }
      ]
    },
    {
      "cell_type": "markdown",
      "source": [
        "### Conclusion.\n",
        "\n",
        "The convolution model definitely surpass a full-dense model because it can captures features while maitining the 2 dimensional shape of the image."
      ],
      "metadata": {
        "id": "UhwPZbIQ3AQH"
      },
      "id": "UhwPZbIQ3AQH"
    }
  ],
  "metadata": {
    "kernelspec": {
      "display_name": "Python 3",
      "name": "python3"
    },
    "language_info": {
      "codemirror_mode": {
        "name": "ipython",
        "version": 3
      },
      "file_extension": ".py",
      "mimetype": "text/x-python",
      "name": "python",
      "nbconvert_exporter": "python",
      "pygments_lexer": "ipython3",
      "version": "3.9.18"
    },
    "colab": {
      "provenance": [],
      "gpuType": "T4"
    },
    "accelerator": "GPU"
  },
  "nbformat": 4,
  "nbformat_minor": 5
}